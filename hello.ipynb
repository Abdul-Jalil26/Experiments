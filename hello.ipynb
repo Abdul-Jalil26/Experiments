{
 "cells": [
  {
   "cell_type": "code",
   "execution_count": null,
   "id": "10aebd25",
   "metadata": {},
   "outputs": [],
   "source": [
    "i=input('Enter your Name')\n",
    "print ('Your name is :',i)"
   ]
  },
  {
   "cell_type": "code",
   "execution_count": null,
   "id": "fba0f637",
   "metadata": {},
   "outputs": [],
   "source": []
  }
 ],
 "metadata": {
  "kernelspec": {
   "display_name": "Python 3",
   "language": "python",
   "name": "python3"
  },
  "language_info": {
   "name": "python",
   "version": "3.12.1"
  }
 },
 "nbformat": 4,
 "nbformat_minor": 5
}
